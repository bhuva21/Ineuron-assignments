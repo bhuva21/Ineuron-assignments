{
 "cells": [
  {
   "cell_type": "code",
   "execution_count": null,
   "id": "34784f3a",
   "metadata": {},
   "outputs": [],
   "source": [
    "1. In the below elements which of them are values or an expression? eg:- values can be integer or string and expressions will be mathematical operators.\n",
    "         *,'hello',-87.8,/,-,+,6.\n",
    "\n",
    "Solution:\n",
    "    \n",
    "    Values      = 'hello', -87.8, 6\n",
    "    Expressions =  *,-,/,+\n",
    "    \n",
    "    \n",
    "2. What is the difference between string and variable?\n",
    "\n",
    "Solution:\n",
    "    \n",
    "    Variable is used to carry or hold values like integer, string or any datatype. Whereas, String is itself a datatype, which is usually enclosed in \"\" or ''.\n",
    "\n",
    "    \n",
    "3. Describe three different data types.\n",
    "\n",
    "Solution:\n",
    "    \n",
    "    Integer - Which is used to hold only numbers without decimal points.\n",
    "    String - Which is used to hold group of characters or any number.\n",
    "    List - Which is used to hold numbers, strings or any data types in a sequence. It is mutable.\n",
    "    \n",
    "    \n",
    "4. What is an expression made up of? What do all expressions do?\n",
    "\n",
    "Solution:\n",
    "    \n",
    "    An expression is made up of values,variables, operators or functions in a structured syntax. The expressions do evalutaion and get to a result.\n",
    "    \n",
    "\n",
    "#5. This assignment statements, like spam = 10. What is the difference between an\n",
    "#expression and a statement?\n",
    "\n",
    "Solution:\n",
    "    \n",
    "    An expression usually do evalution and get to a result whereas statement is piece of code which is able to be executed by the interpreter.\n",
    "\n",
    "6. After running the following code, what does the variable bacon contain?\n",
    "bacon = 22\n",
    "bacon + 1\n",
    "\n",
    "Solution:"
   ]
  },
  {
   "cell_type": "code",
   "execution_count": 1,
   "id": "7f003504",
   "metadata": {},
   "outputs": [
    {
     "name": "stdout",
     "output_type": "stream",
     "text": [
      "22\n"
     ]
    }
   ],
   "source": [
    "\n",
    "bacon = 22\n",
    "bacon +1\n",
    "print(bacon)"
   ]
  },
  {
   "cell_type": "code",
   "execution_count": null,
   "id": "93975619",
   "metadata": {},
   "outputs": [],
   "source": [
    "The variable bacon contains 22. The bacon gets incremented by 1 but it is not reassingned to bacon, because of that it is showing that the value of bacon is 22."
   ]
  }
 ],
 "metadata": {
  "kernelspec": {
   "display_name": "Python 3 (ipykernel)",
   "language": "python",
   "name": "python3"
  },
  "language_info": {
   "codemirror_mode": {
    "name": "ipython",
    "version": 3
   },
   "file_extension": ".py",
   "mimetype": "text/x-python",
   "name": "python",
   "nbconvert_exporter": "python",
   "pygments_lexer": "ipython3",
   "version": "3.9.12"
  }
 },
 "nbformat": 4,
 "nbformat_minor": 5
}
