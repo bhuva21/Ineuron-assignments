{
 "cells": [
  {
   "cell_type": "code",
   "execution_count": null,
   "id": "ffe00ccd",
   "metadata": {},
   "outputs": [],
   "source": [
    "1. In the below elements which of them are values or an expression? eg:- values can be integer or string and expressions will be mathematical operators.\n",
    "solution:-\n",
    "\n",
    " *  - expression\n",
    "\n",
    " \"hello\"- value\n",
    "\n",
    "  -87.8 - value\n",
    "\n",
    "  - - expression\n",
    "\n",
    "  / - expression\n",
    "\n",
    "  + - expression\n",
    "\n",
    "   6 - value\n",
    "\n",
    "2. What is the difference between string and variable?\n",
    "solution:-\n",
    "\n",
    "  string can be written in quotes as mention\n",
    "   \"vaishnavi\" (or) 'vaishnavi'\n",
    "\n",
    "  variable is a thing which helps in holding a data in entity.\n",
    "3.Describe three different data forms?\n",
    "solution:- int,float,list,complex\n",
    "\n",
    "4. What is an expression made up of? What do all expressions do?\n",
    "solution:- expression is madeup of values,containers,and mathematical operators\n",
    "\n",
    "5. This assignment statements, like spam = 10. What is the difference between an\n",
    "expression and a statement?\n",
    "\n",
    "solution:- as we discussed above,expressions are values,containers,and mathematical operators. whereas,statement is like a command which python executes like list\n",
    "\n",
    "6. After running the following code, what does the variable bacon contain?\n"
   ]
  }
 ],
 "metadata": {
  "kernelspec": {
   "display_name": "Python 3 (ipykernel)",
   "language": "python",
   "name": "python3"
  },
  "language_info": {
   "codemirror_mode": {
    "name": "ipython",
    "version": 3
   },
   "file_extension": ".py",
   "mimetype": "text/x-python",
   "name": "python",
   "nbconvert_exporter": "python",
   "pygments_lexer": "ipython3",
   "version": "3.9.12"
  }
 },
 "nbformat": 4,
 "nbformat_minor": 5
}
