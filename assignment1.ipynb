{
 "cells": [
  {
   "cell_type": "markdown",
   "id": "22029cb5",
   "metadata": {},
   "source": [
    "1. In the below elements which of them are values or an expression? eg:- values can be integer or string and expressions will be mathematical operators.\n",
    "solution:-\n",
    "\n",
    " *  - expression\n",
    "\n",
    " \"hello\"- value\n",
    "\n",
    "  -87.8 - value\n",
    "\n",
    "  - - expression\n",
    "\n",
    "  / - expression\n",
    "\n",
    "  + - expression\n",
    "\n",
    "   6 - value\n"
   ]
  }
 ],
 "metadata": {
  "kernelspec": {
   "display_name": "Python 3 (ipykernel)",
   "language": "python",
   "name": "python3"
  },
  "language_info": {
   "codemirror_mode": {
    "name": "ipython",
    "version": 3
   },
   "file_extension": ".py",
   "mimetype": "text/x-python",
   "name": "python",
   "nbconvert_exporter": "python",
   "pygments_lexer": "ipython3",
   "version": "3.9.12"
  }
 },
 "nbformat": 4,
 "nbformat_minor": 5
}
