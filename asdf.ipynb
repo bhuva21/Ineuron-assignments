{
 "cells": [
  {
   "cell_type": "code",
   "execution_count": 1,
   "id": "896f8ffc",
   "metadata": {},
   "outputs": [],
   "source": [
    "a=2\n",
    "b=2"
   ]
  },
  {
   "cell_type": "code",
   "execution_count": 2,
   "id": "d4ed0889",
   "metadata": {},
   "outputs": [
    {
     "data": {
      "text/plain": [
       "(2, 2)"
      ]
     },
     "execution_count": 2,
     "metadata": {},
     "output_type": "execute_result"
    }
   ],
   "source": [
    "a,b"
   ]
  },
  {
   "cell_type": "code",
   "execution_count": 7,
   "id": "f01aa3c9",
   "metadata": {},
   "outputs": [
    {
     "name": "stdout",
     "output_type": "stream",
     "text": [
      "c=a/\n"
     ]
    }
   ],
   "source": [
    "c=a/b\n",
    "print(\"c=a/\")"
   ]
  },
  {
   "cell_type": "code",
   "execution_count": 5,
   "id": "2e1866d9",
   "metadata": {},
   "outputs": [
    {
     "name": "stdout",
     "output_type": "stream",
     "text": [
      "c\n"
     ]
    }
   ],
   "source": [
    "print(\"c\")"
   ]
  },
  {
   "cell_type": "code",
   "execution_count": 8,
   "id": "03724b6a",
   "metadata": {},
   "outputs": [
    {
     "name": "stdout",
     "output_type": "stream",
     "text": [
      "the value of a is 22\n",
      "the value of b is 22\n",
      "the value of c is 22\n"
     ]
    }
   ],
   "source": [
    "a,b,c= input(\"the value of a is \"),input(\"the value of b is \"), input (\"the value of c is \")\n"
   ]
  },
  {
   "cell_type": "code",
   "execution_count": 9,
   "id": "dc5e000d",
   "metadata": {},
   "outputs": [
    {
     "ename": "TypeError",
     "evalue": "unsupported operand type(s) for /: 'str' and 'str'",
     "output_type": "error",
     "traceback": [
      "\u001b[1;31m---------------------------------------------------------------------------\u001b[0m",
      "\u001b[1;31mTypeError\u001b[0m                                 Traceback (most recent call last)",
      "Input \u001b[1;32mIn [9]\u001b[0m, in \u001b[0;36m<cell line: 1>\u001b[1;34m()\u001b[0m\n\u001b[1;32m----> 1\u001b[0m o \u001b[38;5;241m=\u001b[39m a\u001b[38;5;241m+\u001b[39m\u001b[43mb\u001b[49m\u001b[38;5;241;43m/\u001b[39;49m\u001b[43mc\u001b[49m\n",
      "\u001b[1;31mTypeError\u001b[0m: unsupported operand type(s) for /: 'str' and 'str'"
     ]
    }
   ],
   "source": [
    "o = a+b/c"
   ]
  },
  {
   "cell_type": "code",
   "execution_count": 10,
   "id": "59cb1797",
   "metadata": {},
   "outputs": [
    {
     "ename": "TypeError",
     "evalue": "unsupported operand type(s) for /: 'str' and 'str'",
     "output_type": "error",
     "traceback": [
      "\u001b[1;31m---------------------------------------------------------------------------\u001b[0m",
      "\u001b[1;31mTypeError\u001b[0m                                 Traceback (most recent call last)",
      "Input \u001b[1;32mIn [10]\u001b[0m, in \u001b[0;36m<cell line: 1>\u001b[1;34m()\u001b[0m\n\u001b[1;32m----> 1\u001b[0m o\u001b[38;5;241m=\u001b[39m\u001b[43ma\u001b[49m\u001b[38;5;241;43m/\u001b[39;49m\u001b[43mc\u001b[49m\n",
      "\u001b[1;31mTypeError\u001b[0m: unsupported operand type(s) for /: 'str' and 'str'"
     ]
    }
   ],
   "source": [
    "o=a/c\n"
   ]
  },
  {
   "cell_type": "code",
   "execution_count": 3,
   "id": "8b41ae72",
   "metadata": {},
   "outputs": [],
   "source": [
    "a=2\n",
    "c=2\n",
    "d=a/c\n"
   ]
  },
  {
   "cell_type": "code",
   "execution_count": 4,
   "id": "f4e9d053",
   "metadata": {},
   "outputs": [
    {
     "data": {
      "text/plain": [
       "1.0"
      ]
     },
     "execution_count": 4,
     "metadata": {},
     "output_type": "execute_result"
    }
   ],
   "source": [
    "d"
   ]
  },
  {
   "cell_type": "code",
   "execution_count": 16,
   "id": "0f3cffa7",
   "metadata": {},
   "outputs": [
    {
     "ename": "SyntaxError",
     "evalue": "unexpected EOF while parsing (3864572321.py, line 1)",
     "output_type": "error",
     "traceback": [
      "\u001b[1;36m  Input \u001b[1;32mIn [16]\u001b[1;36m\u001b[0m\n\u001b[1;33m    a,b,c= int(input(\"the value of a is \")),int(input(\"the value of b is \")),int( input (\"the value of c is \")\u001b[0m\n\u001b[1;37m                                                                                                              ^\u001b[0m\n\u001b[1;31mSyntaxError\u001b[0m\u001b[1;31m:\u001b[0m unexpected EOF while parsing\n"
     ]
    }
   ],
   "source": [
    "a,b,c= int(input(\"the value of a is \")),int(input(\"the value of b is \")),int( input (\"the value of c is \")\n"
   ]
  },
  {
   "cell_type": "code",
   "execution_count": 10,
   "id": "de1519b6",
   "metadata": {},
   "outputs": [
    {
     "ename": "TypeError",
     "evalue": "unsupported operand type(s) for /: 'str' and 'str'",
     "output_type": "error",
     "traceback": [
      "\u001b[1;31m---------------------------------------------------------------------------\u001b[0m",
      "\u001b[1;31mTypeError\u001b[0m                                 Traceback (most recent call last)",
      "Input \u001b[1;32mIn [10]\u001b[0m, in \u001b[0;36m<cell line: 1>\u001b[1;34m()\u001b[0m\n\u001b[1;32m----> 1\u001b[0m o\u001b[38;5;241m=\u001b[39m(\u001b[43mb\u001b[49m\u001b[38;5;241;43m/\u001b[39;49m\u001b[43mc\u001b[49m)\n",
      "\u001b[1;31mTypeError\u001b[0m: unsupported operand type(s) for /: 'str' and 'str'"
     ]
    }
   ],
   "source": [
    "o=(b/c)"
   ]
  },
  {
   "cell_type": "code",
   "execution_count": 15,
   "id": "2030196a",
   "metadata": {},
   "outputs": [
    {
     "name": "stdout",
     "output_type": "stream",
     "text": [
      "enter the value of a45\n",
      "enter the value of b454\n",
      "enter the value of c454\n"
     ]
    },
    {
     "data": {
      "text/plain": [
       "'(124+6j)bhuva'"
      ]
     },
     "execution_count": 15,
     "metadata": {},
     "output_type": "execute_result"
    }
   ],
   "source": [
    "a=int(input(\"enter the value of a\"))\n",
    "b=int(input(\"enter the value of b\"))\n",
    "c=int(input(\"enter the value of c\"))\n",
    "o =a+b/c\n",
    "o1=o+78+6j\n",
    "str(o1)+ \"bhuva\""
   ]
  },
  {
   "cell_type": "code",
   "execution_count": 26,
   "id": "0169264a",
   "metadata": {},
   "outputs": [
    {
     "name": "stdout",
     "output_type": "stream",
     "text": [
      "enter a value which is lesser than 3549\n",
      "value is lesser than 50\n"
     ]
    }
   ],
   "source": [
    "a = int(input(\"enter a value which is lesser than 35\"))\n",
    "if a < 35:\n",
    "    \n",
    "    print (\"value is lesser than 35\")\n",
    "elif a < 50:\n",
    "    \n",
    "    print(\"value is lesser than 50\")\n",
    "else:\n",
    "    print(\"value is not lesser than 35\")\n",
    "\n"
   ]
  },
  {
   "cell_type": "code",
   "execution_count": 43,
   "id": "82bfc793",
   "metadata": {},
   "outputs": [
    {
     "name": "stdout",
     "output_type": "stream",
     "text": [
      "Enter your salary 20000\n",
      "You can buy a car\n",
      "you can buy any car you want\n"
     ]
    }
   ],
   "source": [
    "salary = int(input(\"Enter your salary \") )\n",
    "if salary > 999:\n",
    "    \n",
    "    print (\"You can buy a car\")\n",
    "    if salary < 2000:\n",
    "        print (\"you can go with nano\")\n",
    "    \n",
    "    elif salary < 5000:\n",
    "                print(\"you can buy a toyota\")\n",
    "    \n",
    "    elif salary < 10000:\n",
    "                    print (\"you can buy innova\")\n",
    "    \n",
    "    else:\n",
    "                        print (\"you can buy any car you want\")\n",
    "elif salary > 499:\n",
    "    print(\"You can buy a bike\")\n",
    "\n",
    "    elif salary > 99:\n",
    "    print (\"you can go in bus\")\n",
    "\n",
    "else:\n",
    "    print (\"you dont have enough money, please save it\")\n"
   ]
  },
  {
   "cell_type": "code",
   "execution_count": null,
   "id": "a74941ff",
   "metadata": {},
   "outputs": [],
   "source": []
  },
  {
   "cell_type": "code",
   "execution_count": null,
   "id": "024c768e",
   "metadata": {},
   "outputs": [],
   "source": []
  }
 ],
 "metadata": {
  "kernelspec": {
   "display_name": "Python 3 (ipykernel)",
   "language": "python",
   "name": "python3"
  },
  "language_info": {
   "codemirror_mode": {
    "name": "ipython",
    "version": 3
   },
   "file_extension": ".py",
   "mimetype": "text/x-python",
   "name": "python",
   "nbconvert_exporter": "python",
   "pygments_lexer": "ipython3",
   "version": "3.9.12"
  }
 },
 "nbformat": 4,
 "nbformat_minor": 5
}
