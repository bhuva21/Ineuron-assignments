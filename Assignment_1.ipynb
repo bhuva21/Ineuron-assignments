{
 "cells": [
  {
   "cell_type": "code",
   "execution_count": null,
   "id": "34784f3a",
   "metadata": {},
   "outputs": [],
   "source": [
    "1. In the below elements which of them are values or an expression? eg:- values can be integer or string and expressions\n",
    "   will be mathematical operators.\n",
    "         *,'hello',-87.8,/,-,+,6.\n",
    "\n",
    "Solution:\n",
    "    \n",
    "    Values      = 'hello', -87.8, 6\n",
    "    Expressions =  *,-,/,+\n",
    "    \n",
    "    \n",
    "2. What is the difference between string and variable?\n",
    "\n",
    "Solution:\n",
    "    \n",
    "    Variable is used to carry or hold values like integer, string or any datatype. Whereas, String is itself a datatype,\n",
    "    which is usually enclosed in \"\" or ''.\n",
    "\n",
    "    \n",
    "3. Describe three different data types.\n",
    "\n",
    "Solution:\n",
    "    \n",
    "    Integer - Which is used to hold only numbers without decimal points.\n",
    "    String - Which is used to hold group of characters or any number.\n",
    "    List - Which is used to hold numbers, strings or any data types in a sequence. It is mutable.\n",
    "    \n",
    "    \n",
    "4. What is an expression made up of? What do all expressions do?\n",
    "\n",
    "Solution:\n",
    "    \n",
    "    An expression is made up of values,variables, operators or functions in a structured syntax. The expressions do \n",
    "    evalutaion and get to a result.\n",
    "    \n",
    "\n",
    "5. This assignment statements, like spam = 10. What is the difference between anexpression and a statement?\n",
    "\n",
    "Solution:\n",
    "    \n",
    "    An expression usually do evalution and get to a result whereas statement is piece of code which is able to be \n",
    "    executed by the interpreter.\n",
    "\n",
    "6. After running the following code, what does the variable bacon contain?\n",
    "    bacon = 22\n",
    "    bacon + 1\n",
    "\n",
    "Solution:"
   ]
  },
  {
   "cell_type": "code",
   "execution_count": 1,
   "id": "7f003504",
   "metadata": {},
   "outputs": [
    {
     "name": "stdout",
     "output_type": "stream",
     "text": [
      "22\n"
     ]
    }
   ],
   "source": [
    "\n",
    "bacon = 22\n",
    "bacon +1\n",
    "print(bacon)"
   ]
  },
  {
   "cell_type": "code",
   "execution_count": null,
   "id": "93975619",
   "metadata": {},
   "outputs": [],
   "source": [
    "   The variable bacon contains 22. The bacon gets incremented by 1 but it is not reassingned to bacon, because of \n",
    "   that it is showing that the value of bacon is 22."
   ]
  },
  {
   "cell_type": "code",
   "execution_count": null,
   "id": "5a612db0",
   "metadata": {},
   "outputs": [],
   "source": [
    "7. What should the values of the following two terms be?\n",
    "    'spam'+'spamspam'\n",
    "    'spam'*3\n",
    "    \n",
    "Solution:"
   ]
  },
  {
   "cell_type": "code",
   "execution_count": 5,
   "id": "3850dd9d",
   "metadata": {},
   "outputs": [
    {
     "data": {
      "text/plain": [
       "'spamspamspam'"
      ]
     },
     "execution_count": 5,
     "metadata": {},
     "output_type": "execute_result"
    }
   ],
   "source": [
    "'spam'+'spamspam' #string concatenation\n",
    "'spam'*3 #string multiplication"
   ]
  },
  {
   "cell_type": "code",
   "execution_count": null,
   "id": "ef877e80",
   "metadata": {},
   "outputs": [],
   "source": [
    "8. Why is eggs a valid variable name while 100 is invalid?\n",
    "\n",
    "Solution:\n",
    "    \n",
    "    variable name must always starts with a letter and not with a number, the varibale can be alphanumeric \n",
    "    but alphabet has to be placed first followed by numbers.\n",
    "    \n",
    "9. What three functions can be used to get the integer, floating-point number, or string\n",
    "version of a value?\n",
    "\n",
    "Solution:\n",
    "    \n",
    "    int(),str(),float() can be used to get the integer, floating point number and string version of a value.\n",
    "    \n",
    "10. Why does this expression cause an error? How can you fix it?\n",
    "'I have eaten' + 99 + 'burritos.'"
   ]
  },
  {
   "cell_type": "code",
   "execution_count": 6,
   "id": "64546865",
   "metadata": {},
   "outputs": [
    {
     "ename": "TypeError",
     "evalue": "can only concatenate str (not \"int\") to str",
     "output_type": "error",
     "traceback": [
      "\u001b[1;31m---------------------------------------------------------------------------\u001b[0m",
      "\u001b[1;31mTypeError\u001b[0m                                 Traceback (most recent call last)",
      "Input \u001b[1;32mIn [6]\u001b[0m, in \u001b[0;36m<cell line: 1>\u001b[1;34m()\u001b[0m\n\u001b[1;32m----> 1\u001b[0m \u001b[38;5;124;43m'\u001b[39;49m\u001b[38;5;124;43mI have eaten\u001b[39;49m\u001b[38;5;124;43m'\u001b[39;49m\u001b[43m \u001b[49m\u001b[38;5;241;43m+\u001b[39;49m\u001b[43m \u001b[49m\u001b[38;5;241;43m99\u001b[39;49m \u001b[38;5;241m+\u001b[39m \u001b[38;5;124m'\u001b[39m\u001b[38;5;124mburritos.\u001b[39m\u001b[38;5;124m'\u001b[39m\n",
      "\u001b[1;31mTypeError\u001b[0m: can only concatenate str (not \"int\") to str"
     ]
    }
   ],
   "source": [
    "'I have eaten' + 99 + 'burritos.'"
   ]
  },
  {
   "cell_type": "code",
   "execution_count": null,
   "id": "7443b699",
   "metadata": {},
   "outputs": [],
   "source": [
    "Solution:\n",
    "    \n",
    "    Here, 99 is in int format unless the 99 be changed to string it can't be concatenated, so,"
   ]
  },
  {
   "cell_type": "code",
   "execution_count": 7,
   "id": "089f1b0f",
   "metadata": {},
   "outputs": [
    {
     "data": {
      "text/plain": [
       "'I have eaten99burritos.'"
      ]
     },
     "execution_count": 7,
     "metadata": {},
     "output_type": "execute_result"
    }
   ],
   "source": [
    "'I have eaten' + str(99) + 'burritos.'"
   ]
  },
  {
   "cell_type": "code",
   "execution_count": null,
   "id": "65abc898",
   "metadata": {},
   "outputs": [],
   "source": [
    "    IT'S DONE....."
   ]
  }
 ],
 "metadata": {
  "kernelspec": {
   "display_name": "Python 3 (ipykernel)",
   "language": "python",
   "name": "python3"
  },
  "language_info": {
   "codemirror_mode": {
    "name": "ipython",
    "version": 3
   },
   "file_extension": ".py",
   "mimetype": "text/x-python",
   "name": "python",
   "nbconvert_exporter": "python",
   "pygments_lexer": "ipython3",
   "version": "3.9.12"
  }
 },
 "nbformat": 4,
 "nbformat_minor": 5
}
